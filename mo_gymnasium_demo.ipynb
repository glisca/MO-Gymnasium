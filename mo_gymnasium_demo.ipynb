{
 "cells": [
  {
   "cell_type": "markdown",
   "id": "ed73b6a4",
   "metadata": {
    "colab_type": "text",
    "id": "view-in-github"
   },
   "source": [
    "<a href=\"https://colab.research.google.com/github/Farama-Foundation/MO-Gymnasium/blob/main/mo_gymnasium_demo.ipynb\" target=\"_parent\"><img src=\"https://colab.research.google.com/assets/colab-badge.svg\" alt=\"Open In Colab\"/></a>"
   ]
  },
  {
   "cell_type": "markdown",
   "id": "ab7f2ffc",
   "metadata": {
    "id": "ab7f2ffc"
   },
   "source": [
    "## Step 1: install and import the libraries"
   ]
  },
  {
   "cell_type": "code",
   "execution_count": 1,
   "id": "o8lMdzzrRf0O",
   "metadata": {
    "colab": {
     "base_uri": "https://localhost:8080/"
    },
    "id": "o8lMdzzrRf0O",
    "outputId": "b8bb653e-a81f-42b7-e251-40179a2d0d76"
   },
   "outputs": [],
   "source": [
    "# !pip install mo-gymnasium"
   ]
  },
  {
   "cell_type": "code",
   "execution_count": 2,
   "id": "43bddbf7",
   "metadata": {},
   "outputs": [],
   "source": [
    "import sys\n",
    "# !{sys.executable} -m pip install moviepy"
   ]
  },
  {
   "cell_type": "code",
   "execution_count": 3,
   "id": "846b9364",
   "metadata": {
    "id": "846b9364"
   },
   "outputs": [],
   "source": [
    "import gymnasium as gym\n",
    "import mo_gymnasium as mo_gym"
   ]
  },
  {
   "cell_type": "markdown",
   "id": "f4fef046",
   "metadata": {
    "id": "f4fef046"
   },
   "source": [
    "## Step 2: create an environment"
   ]
  },
  {
   "cell_type": "code",
   "execution_count": 4,
   "id": "d5415397",
   "metadata": {
    "id": "d5415397"
   },
   "outputs": [],
   "source": [
    "env = mo_gym.make(\"mo-mountaincar-v0\", render_mode=\"rgb_array\")"
   ]
  },
  {
   "cell_type": "markdown",
   "id": "870ae1a4",
   "metadata": {
    "id": "870ae1a4"
   },
   "source": [
    "## Step 3: extract environment information"
   ]
  },
  {
   "cell_type": "code",
   "execution_count": 5,
   "id": "8db784fa",
   "metadata": {
    "colab": {
     "base_uri": "https://localhost:8080/"
    },
    "id": "8db784fa",
    "outputId": "dd097381-1f1b-48c3-8be2-f284aa9f493e"
   },
   "outputs": [
    {
     "data": {
      "text/plain": [
       "Box([-1.2  -0.07], [0.6  0.07], (2,), float32)"
      ]
     },
     "execution_count": 5,
     "metadata": {},
     "output_type": "execute_result"
    }
   ],
   "source": [
    "env.observation_space"
   ]
  },
  {
   "cell_type": "code",
   "execution_count": 6,
   "id": "8e8d91c7",
   "metadata": {
    "colab": {
     "base_uri": "https://localhost:8080/"
    },
    "id": "8e8d91c7",
    "outputId": "3c51452a-8713-4599-9064-72fff4faca85"
   },
   "outputs": [
    {
     "data": {
      "text/plain": [
       "Discrete(3)"
      ]
     },
     "execution_count": 6,
     "metadata": {},
     "output_type": "execute_result"
    }
   ],
   "source": [
    "env.action_space"
   ]
  },
  {
   "cell_type": "code",
   "execution_count": 7,
   "id": "5bff02b6",
   "metadata": {
    "colab": {
     "base_uri": "https://localhost:8080/"
    },
    "id": "5bff02b6",
    "outputId": "fe8ee38e-ff94-4ad2-9d9c-e2cc58d89159"
   },
   "outputs": [
    {
     "name": "stderr",
     "output_type": "stream",
     "text": [
      "/home/lisca/ikigas/src/ikigas-students/.conda/lib/python3.8/site-packages/gymnasium/core.py:311: UserWarning: \u001b[33mWARN: env.reward_space to get variables from other wrappers is deprecated and will be removed in v1.0, to get this variable you can do `env.unwrapped.reward_space` for environment variables or `env.get_wrapper_attr('reward_space')` that will search the reminding wrappers.\u001b[0m\n",
      "  logger.warn(\n"
     ]
    },
    {
     "data": {
      "text/plain": [
       "Box(-1.0, [-1.  0.  0.], (3,), float32)"
      ]
     },
     "execution_count": 7,
     "metadata": {},
     "output_type": "execute_result"
    }
   ],
   "source": [
    "env.reward_space"
   ]
  },
  {
   "attachments": {},
   "cell_type": "markdown",
   "id": "f01faaa2",
   "metadata": {
    "id": "f01faaa2"
   },
   "source": [
    "## Step 4: use Gymnasium features in MO-Gymnasium"
   ]
  },
  {
   "cell_type": "code",
   "execution_count": 8,
   "id": "c64e5417",
   "metadata": {
    "id": "c64e5417"
   },
   "outputs": [],
   "source": [
    "from gymnasium.wrappers.record_video import RecordVideo"
   ]
  },
  {
   "cell_type": "code",
   "execution_count": 9,
   "id": "a4190496",
   "metadata": {
    "colab": {
     "base_uri": "https://localhost:8080/"
    },
    "id": "a4190496",
    "outputId": "7739e628-5ef1-4086-98df-33ff30af0a29"
   },
   "outputs": [
    {
     "name": "stderr",
     "output_type": "stream",
     "text": [
      "/home/lisca/ikigas/src/ikigas-students/.conda/lib/python3.8/site-packages/gymnasium/wrappers/record_video.py:94: UserWarning: \u001b[33mWARN: Overwriting existing videos at /home/lisca/ikigas/src/MO-Gymnasium/videos/demo folder (try specifying a different `video_folder` for the `RecordVideo` wrapper if this is not desired)\u001b[0m\n",
      "  logger.warn(\n"
     ]
    }
   ],
   "source": [
    "env = RecordVideo(env, \"videos/demo\", episode_trigger=lambda e: True)"
   ]
  },
  {
   "cell_type": "markdown",
   "id": "dbde25c4",
   "metadata": {
    "id": "dbde25c4"
   },
   "source": [
    "## Step 5: go through the environment with a random agent"
   ]
  },
  {
   "cell_type": "code",
   "execution_count": 10,
   "id": "066db701",
   "metadata": {
    "id": "066db701"
   },
   "outputs": [
    {
     "name": "stdout",
     "output_type": "stream",
     "text": [
      "Moviepy - Building video /home/lisca/ikigas/src/MO-Gymnasium/videos/demo/rl-video-episode-0.mp4.\n",
      "Moviepy - Writing video /home/lisca/ikigas/src/MO-Gymnasium/videos/demo/rl-video-episode-0.mp4\n",
      "\n"
     ]
    },
    {
     "name": "stderr",
     "output_type": "stream",
     "text": [
      "                                                                                                                                                                                      \r"
     ]
    },
    {
     "name": "stdout",
     "output_type": "stream",
     "text": [
      "Moviepy - Done !\n",
      "Moviepy - video ready /home/lisca/ikigas/src/MO-Gymnasium/videos/demo/rl-video-episode-0.mp4\n"
     ]
    }
   ],
   "source": [
    "env.reset()\n",
    "done = False\n",
    "\n",
    "while not done:\n",
    "    obs, vec_reward, terminated, truncated, info = env.step(env.action_space.sample())\n",
    "    done = terminated or truncated"
   ]
  },
  {
   "cell_type": "markdown",
   "id": "IG7S7nx3cces",
   "metadata": {
    "id": "IG7S7nx3cces"
   },
   "source": [
    "## Step 6: scalarize env and run it with stable-baselines3\n",
    "\n"
   ]
  },
  {
   "cell_type": "code",
   "execution_count": 11,
   "id": "DHkO3R7uccOy",
   "metadata": {
    "colab": {
     "base_uri": "https://localhost:8080/"
    },
    "id": "DHkO3R7uccOy",
    "outputId": "7dcaa4a2-f566-40e8-f62a-12d4320c3df4"
   },
   "outputs": [],
   "source": [
    "# !pip install stable-baselines3 --upgrade"
   ]
  },
  {
   "cell_type": "code",
   "execution_count": 12,
   "id": "lgPC1qU8c-0A",
   "metadata": {
    "colab": {
     "base_uri": "https://localhost:8080/"
    },
    "id": "lgPC1qU8c-0A",
    "outputId": "f3b8d2a4-0a91-4005-c0e9-64d9f34f19d3"
   },
   "outputs": [],
   "source": [
    "import stable_baselines3 as sb3\n",
    "import numpy as np\n",
    "import mo_gymnasium as mo_gym"
   ]
  },
  {
   "cell_type": "code",
   "execution_count": 13,
   "id": "mn7dMweScz1U",
   "metadata": {
    "colab": {
     "base_uri": "https://localhost:8080/"
    },
    "id": "mn7dMweScz1U",
    "outputId": "fe80d623-a46d-4d9e-bd27-75188c12aa19"
   },
   "outputs": [
    {
     "data": {
      "text/plain": [
       "<stable_baselines3.dqn.dqn.DQN at 0x7c663b3cf610>"
      ]
     },
     "execution_count": 13,
     "metadata": {},
     "output_type": "execute_result"
    }
   ],
   "source": [
    "# Linear scalarizes the environment\n",
    "env = mo_gym.LinearReward(mo_gym.make(\"mo-mountaincar-v0\"), weight=np.array([0.9, 0.1, 0.0]))\n",
    "\n",
    "# Run DQN agent!\n",
    "agent = sb3.DQN(\"MlpPolicy\", env)\n",
    "agent.learn(10000)"
   ]
  },
  {
   "cell_type": "code",
   "execution_count": null,
   "id": "53627850-6ab6-475c-8cc4-a1803f2106da",
   "metadata": {},
   "outputs": [],
   "source": []
  }
 ],
 "metadata": {
  "colab": {
   "include_colab_link": true,
   "name": "mo-gym-demo.ipynb",
   "provenance": []
  },
  "kernelspec": {
   "display_name": "Python 3 (ipykernel)",
   "language": "python",
   "name": "python3"
  },
  "language_info": {
   "codemirror_mode": {
    "name": "ipython",
    "version": 3
   },
   "file_extension": ".py",
   "mimetype": "text/x-python",
   "name": "python",
   "nbconvert_exporter": "python",
   "pygments_lexer": "ipython3",
   "version": "3.8.18"
  },
  "vscode": {
   "interpreter": {
    "hash": "ac2eaa0ea0ebeafcc7822e65e46aa9d4f966f30b695406963e145ea4a91cd4fc"
   }
  }
 },
 "nbformat": 4,
 "nbformat_minor": 5
}
